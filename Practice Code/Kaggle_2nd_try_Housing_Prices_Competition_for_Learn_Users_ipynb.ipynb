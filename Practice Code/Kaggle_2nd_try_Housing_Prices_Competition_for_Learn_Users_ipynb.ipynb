{
  "nbformat": 4,
  "nbformat_minor": 0,
  "metadata": {
    "colab": {
      "provenance": [],
      "authorship_tag": "ABX9TyPrv5BHmj5EIUkD/gtUX+H9",
      "include_colab_link": true
    },
    "kernelspec": {
      "name": "python3",
      "display_name": "Python 3"
    },
    "language_info": {
      "name": "python"
    }
  },
  "cells": [
    {
      "cell_type": "markdown",
      "metadata": {
        "id": "view-in-github",
        "colab_type": "text"
      },
      "source": [
        "<a href=\"https://colab.research.google.com/github/arjunverma2004/Krish-Naik-Data-Science-course-code/blob/main/Practice%20Code/Kaggle_2nd_try_Housing_Prices_Competition_for_Learn_Users_ipynb.ipynb\" target=\"_parent\"><img src=\"https://colab.research.google.com/assets/colab-badge.svg\" alt=\"Open In Colab\"/></a>"
      ]
    },
    {
      "cell_type": "code",
      "execution_count": 1,
      "metadata": {
        "id": "x_C1x7e9FInt"
      },
      "outputs": [],
      "source": [
        "import pandas as pd\n",
        "import numpy as np\n",
        "import matplotlib.pyplot as plt\n",
        "import seaborn as sns"
      ]
    },
    {
      "cell_type": "code",
      "source": [
        "df=pd.read_csv('train.csv')"
      ],
      "metadata": {
        "id": "puHC-lw1FVQm"
      },
      "execution_count": 2,
      "outputs": []
    },
    {
      "cell_type": "code",
      "source": [
        "df.drop(columns=[\"Alley\",\"PoolQC\",\"MiscFeature\"],inplace=True,errors='ignore')"
      ],
      "metadata": {
        "id": "_ArkW2ZvFZY_"
      },
      "execution_count": 3,
      "outputs": []
    },
    {
      "cell_type": "code",
      "source": [
        "for col in[\"Fence\",\"FireplaceQu\",\"MasVnrType\"]:\n",
        "    df[col].fillna(\"None\",inplace=True)\n"
      ],
      "metadata": {
        "colab": {
          "base_uri": "https://localhost:8080/"
        },
        "id": "3Hp8Z2UXFoZW",
        "outputId": "8c57a59f-50e1-4cd4-ede5-9f1778d476c9"
      },
      "execution_count": 5,
      "outputs": [
        {
          "output_type": "stream",
          "name": "stderr",
          "text": [
            "<ipython-input-5-2a3baa9845de>:2: FutureWarning: A value is trying to be set on a copy of a DataFrame or Series through chained assignment using an inplace method.\n",
            "The behavior will change in pandas 3.0. This inplace method will never work because the intermediate object on which we are setting values always behaves as a copy.\n",
            "\n",
            "For example, when doing 'df[col].method(value, inplace=True)', try using 'df.method({col: value}, inplace=True)' or df[col] = df[col].method(value) instead, to perform the operation inplace on the original object.\n",
            "\n",
            "\n",
            "  df[col].fillna(\"None\",inplace=True)\n"
          ]
        }
      ]
    },
    {
      "cell_type": "code",
      "source": [
        "for col in [\"GarageType\", \"GarageFinish\", \"GarageQual\", \"GarageCond\",\n",
        "            \"BsmtQual\", \"BsmtCond\", \"BsmtExposure\", \"BsmtFinType1\", \"BsmtFinType2\", \"Electrical\"]:\n",
        "         df[col].fillna(df[col].mode()[0],inplace=True)"
      ],
      "metadata": {
        "colab": {
          "base_uri": "https://localhost:8080/"
        },
        "id": "38TF3B6DFyxZ",
        "outputId": "c87f5493-0e2d-4b66-930e-5c8ac93f214b"
      },
      "execution_count": 7,
      "outputs": [
        {
          "output_type": "stream",
          "name": "stderr",
          "text": [
            "<ipython-input-7-d51b1fabc908>:3: FutureWarning: A value is trying to be set on a copy of a DataFrame or Series through chained assignment using an inplace method.\n",
            "The behavior will change in pandas 3.0. This inplace method will never work because the intermediate object on which we are setting values always behaves as a copy.\n",
            "\n",
            "For example, when doing 'df[col].method(value, inplace=True)', try using 'df.method({col: value}, inplace=True)' or df[col] = df[col].method(value) instead, to perform the operation inplace on the original object.\n",
            "\n",
            "\n",
            "  df[col].fillna(df[col].mode()[0],inplace=True)\n"
          ]
        }
      ]
    },
    {
      "cell_type": "code",
      "source": [
        "df[\"LotFrontage\"].fillna(df[\"LotFrontage\"].median(), inplace=True)\n",
        "df[\"MasVnrArea\"].fillna(0, inplace=True)\n",
        "df[\"GarageYrBlt\"].fillna(df[\"YearBuilt\"], inplace=True)"
      ],
      "metadata": {
        "colab": {
          "base_uri": "https://localhost:8080/"
        },
        "id": "fogLDxtPF3qj",
        "outputId": "885ff9ca-8ddd-4504-d66d-2cbdcde5690f"
      },
      "execution_count": 8,
      "outputs": [
        {
          "output_type": "stream",
          "name": "stderr",
          "text": [
            "<ipython-input-8-58d235396e00>:1: FutureWarning: A value is trying to be set on a copy of a DataFrame or Series through chained assignment using an inplace method.\n",
            "The behavior will change in pandas 3.0. This inplace method will never work because the intermediate object on which we are setting values always behaves as a copy.\n",
            "\n",
            "For example, when doing 'df[col].method(value, inplace=True)', try using 'df.method({col: value}, inplace=True)' or df[col] = df[col].method(value) instead, to perform the operation inplace on the original object.\n",
            "\n",
            "\n",
            "  df[\"LotFrontage\"].fillna(df[\"LotFrontage\"].median(), inplace=True)\n",
            "<ipython-input-8-58d235396e00>:2: FutureWarning: A value is trying to be set on a copy of a DataFrame or Series through chained assignment using an inplace method.\n",
            "The behavior will change in pandas 3.0. This inplace method will never work because the intermediate object on which we are setting values always behaves as a copy.\n",
            "\n",
            "For example, when doing 'df[col].method(value, inplace=True)', try using 'df.method({col: value}, inplace=True)' or df[col] = df[col].method(value) instead, to perform the operation inplace on the original object.\n",
            "\n",
            "\n",
            "  df[\"MasVnrArea\"].fillna(0, inplace=True)\n",
            "<ipython-input-8-58d235396e00>:3: FutureWarning: A value is trying to be set on a copy of a DataFrame or Series through chained assignment using an inplace method.\n",
            "The behavior will change in pandas 3.0. This inplace method will never work because the intermediate object on which we are setting values always behaves as a copy.\n",
            "\n",
            "For example, when doing 'df[col].method(value, inplace=True)', try using 'df.method({col: value}, inplace=True)' or df[col] = df[col].method(value) instead, to perform the operation inplace on the original object.\n",
            "\n",
            "\n",
            "  df[\"GarageYrBlt\"].fillna(df[\"YearBuilt\"], inplace=True)\n"
          ]
        }
      ]
    },
    {
      "cell_type": "code",
      "source": [
        "df[\"TotalSF\"] = df[\"TotalBsmtSF\"] +dfa[\"1stFlrSF\"] + df[\"2ndFlrSF\"]\n",
        "df[\"TotalBathrooms\"] = df[\"FullBath\"] + 0.5 * df[\"HalfBath\"] + df[\"BsmtFullBath\"] + 0.5 * df[\"BsmtHalfBath\"]\n",
        "df[\"Age\"] = df[\"YrSold\"] - df[\"YearBuilt\"]"
      ],
      "metadata": {
        "id": "1SunRWI8GBWZ"
      },
      "execution_count": null,
      "outputs": []
    },
    {
      "source": [
        "from sklearn.preprocessing import OneHotEncoder\n",
        "object_cols = df.select_dtypes(include=['object']).columns\n",
        "encoder = OneHotEncoder(handle_unknown='ignore', sparse_output=False) # Changed 'sparse' to 'sparse_output'\n",
        "encoder_data = pd.DataFrame(encoder.fit_transform(df[object_cols]))"
      ],
      "cell_type": "code",
      "metadata": {
        "id": "_tNoIHK7GhJ5"
      },
      "execution_count": 10,
      "outputs": []
    },
    {
      "cell_type": "code",
      "source": [
        "encoder_data.columns = encoder.get_feature_names_out(object_cols)\n",
        "encoder_data.index = df.index\n"
      ],
      "metadata": {
        "id": "A6VdpVCFGkpl"
      },
      "execution_count": 11,
      "outputs": []
    },
    {
      "cell_type": "code",
      "source": [
        "df = df.drop(columns=object_cols).reset_index(drop=True)\n",
        "df = pd.concat([df, encoder_data], axis=1)"
      ],
      "metadata": {
        "id": "sbBcZDs5GovW"
      },
      "execution_count": 12,
      "outputs": []
    },
    {
      "cell_type": "code",
      "source": [
        "if df.isnull().sum().sum() > 0:\n",
        "    print(\"Warning: There are still missing values!\")\n",
        "print(df.isnull().sum())"
      ],
      "metadata": {
        "colab": {
          "base_uri": "https://localhost:8080/"
        },
        "id": "Qaw9vG3cGvKk",
        "outputId": "3a4d45c4-3cf5-4b0f-82b8-531fe415b0ee"
      },
      "execution_count": 13,
      "outputs": [
        {
          "output_type": "stream",
          "name": "stdout",
          "text": [
            "Id                       0\n",
            "MSSubClass               0\n",
            "LotFrontage              0\n",
            "LotArea                  0\n",
            "OverallQual              0\n",
            "                        ..\n",
            "SaleCondition_AdjLand    0\n",
            "SaleCondition_Alloca     0\n",
            "SaleCondition_Family     0\n",
            "SaleCondition_Normal     0\n",
            "SaleCondition_Partial    0\n",
            "Length: 283, dtype: int64\n"
          ]
        }
      ]
    },
    {
      "cell_type": "code",
      "source": [
        "del X"
      ],
      "metadata": {
        "id": "-L_G5KFTHYV_"
      },
      "execution_count": 16,
      "outputs": []
    },
    {
      "cell_type": "code",
      "source": [
        "X=df.drop('SalePrice',axis=1)\n",
        "y=df['SalePrice']"
      ],
      "metadata": {
        "id": "fAA_sFTRG5ea"
      },
      "execution_count": 18,
      "outputs": []
    },
    {
      "cell_type": "code",
      "source": [
        "X.drop('Id',axis=1,inplace=True)"
      ],
      "metadata": {
        "id": "XOUwK2VWHyOq"
      },
      "execution_count": 20,
      "outputs": []
    },
    {
      "cell_type": "code",
      "source": [
        "from sklearn.model_selection import train_test_split\n",
        "X_train, X_test, y_train, y_test = train_test_split(X, y, test_size=0.2, random_state=42)"
      ],
      "metadata": {
        "id": "zq9FbywkH3H4"
      },
      "execution_count": 21,
      "outputs": []
    },
    {
      "cell_type": "code",
      "source": [
        "from sklearn.preprocessing import StandardScaler\n",
        "scaler = StandardScaler()\n",
        "X_train_scaled = scaler.fit_transform(X_train)\n",
        "X_test_scaled = scaler.transform(X_test)"
      ],
      "metadata": {
        "id": "e3l6BKugHIg7"
      },
      "execution_count": 22,
      "outputs": []
    },
    {
      "cell_type": "code",
      "source": [
        "from sklearn.ensemble import RandomForestRegressor\n",
        "from sklearn.ensemble import HistGradientBoostingRegressor\n",
        "from xgboost import XGBRegressor\n",
        "import xgboost as xgb\n",
        "from sklearn.tree import DecisionTreeRegressor\n",
        "from sklearn.linear_model import LinearRegression\n",
        "from sklearn.neighbors import KNeighborsRegressor\n",
        "from sklearn.svm import SVR\n",
        "from sklearn.metrics import mean_squared_error, root_mean_squared_error, r2_score"
      ],
      "metadata": {
        "id": "YDE_uRUSID-t"
      },
      "execution_count": 23,
      "outputs": []
    },
    {
      "cell_type": "code",
      "source": [
        "models={\n",
        "    'Random Forest Regressor':RandomForestRegressor(),\n",
        "    'XGBoost Regressor':xgb.XGBRegressor(),\n",
        "    'HistGradient Boosting Regressor':HistGradientBoostingRegressor(),\n",
        "    'Decision Tree Regressor':DecisionTreeRegressor(),\n",
        "    'Linear Regression':LinearRegression(),\n",
        "    'KNNr':KNeighborsRegressor(),\n",
        "    'SVR':SVR()\n",
        "}\n",
        "for i in range(len(list(models))):\n",
        "    model = list(models.values())[i]\n",
        "    model.fit(X_train, y_train) # Train model\n",
        "\n",
        "    # Make predictions\n",
        "    y_train_pred = model.predict(X_train)\n",
        "    y_test_pred = model.predict(X_test)\n",
        "\n",
        "    # Training set performance\n",
        "    model_train_mean_square = mean_squared_error(y_train, y_train_pred) # Calculate Accuracy\n",
        "    model_train_root_mean_square = root_mean_squared_error(y_train, y_train_pred) # Calculate Precision\n",
        "    model_train_r2_score = r2_score(y_train, y_train_pred) # Calculate Recall\n",
        "\n",
        "\n",
        "    # Test set performance\n",
        "    model_test_mean_square = mean_squared_error(y_test, y_test_pred) # Calculate Accuracy\n",
        "    model_test_root_mean_square = root_mean_squared_error(y_test, y_test_pred) # Calculate Precision\n",
        "    model_test_r2_score = r2_score(y_test, y_test_pred) #Calculate Roc\n",
        "\n",
        "\n",
        "    print(list(models.keys())[i])\n",
        "\n",
        "    print('Model performance for Training set')\n",
        "    print(\"- Mean Square: {:.4f}\".format(model_train_mean_square))\n",
        "    print('- Root_Mean_Square: {:.4f}'.format(model_train_root_mean_square))\n",
        "    print('- R2 Score: {:.4f}'.format(model_train_r2_score))\n",
        "\n",
        "\n",
        "\n",
        "    print('----------------------------------')\n",
        "\n",
        "    print('Model performance for Test set')\n",
        "    print(\"- Mean Square: {:.4f}\".format(model_test_mean_square))\n",
        "    print('- Root_Mean_Square: {:.4f}'.format(model_test_root_mean_square))\n",
        "    print('- R2 Score: {:.4f}'.format(model_test_r2_score))\n",
        "\n",
        "\n",
        "    print('='*35)\n",
        "    print('\\n')"
      ],
      "metadata": {
        "colab": {
          "base_uri": "https://localhost:8080/"
        },
        "id": "toGVw7p0IqZm",
        "outputId": "d4a770dd-fe3a-40ef-a7a2-f7f75510ef88"
      },
      "execution_count": 24,
      "outputs": [
        {
          "output_type": "stream",
          "name": "stdout",
          "text": [
            "Random Forest Regressor\n",
            "Model performance for Training set\n",
            "- Mean Square: 119363709.3144\n",
            "- Root_Mean_Square: 10925.3700\n",
            "- R2 Score: 0.9800\n",
            "----------------------------------\n",
            "Model performance for Test set\n",
            "- Mean Square: 826853875.1032\n",
            "- Root_Mean_Square: 28755.0669\n",
            "- R2 Score: 0.8922\n",
            "===================================\n",
            "\n",
            "\n",
            "XGBoost Regressor\n",
            "Model performance for Training set\n",
            "- Mean Square: 1773401.2500\n",
            "- Root_Mean_Square: 1331.6912\n",
            "- R2 Score: 0.9997\n",
            "----------------------------------\n",
            "Model performance for Test set\n",
            "- Mean Square: 715879040.0000\n",
            "- Root_Mean_Square: 26755.9160\n",
            "- R2 Score: 0.9067\n",
            "===================================\n",
            "\n",
            "\n",
            "HistGradient Boosting Regressor\n",
            "Model performance for Training set\n",
            "- Mean Square: 121049291.5399\n",
            "- Root_Mean_Square: 11002.2403\n",
            "- R2 Score: 0.9797\n",
            "----------------------------------\n",
            "Model performance for Test set\n",
            "- Mean Square: 843377739.1330\n",
            "- Root_Mean_Square: 29040.9666\n",
            "- R2 Score: 0.8900\n",
            "===================================\n",
            "\n",
            "\n",
            "Decision Tree Regressor\n",
            "Model performance for Training set\n",
            "- Mean Square: 0.0000\n",
            "- Root_Mean_Square: 0.0000\n",
            "- R2 Score: 1.0000\n",
            "----------------------------------\n",
            "Model performance for Test set\n",
            "- Mean Square: 1678671119.5205\n",
            "- Root_Mean_Square: 40971.5892\n",
            "- R2 Score: 0.7811\n",
            "===================================\n",
            "\n",
            "\n",
            "Linear Regression\n",
            "Model performance for Training set\n",
            "- Mean Square: 387657922.0703\n",
            "- Root_Mean_Square: 19689.0305\n",
            "- R2 Score: 0.9350\n",
            "----------------------------------\n",
            "Model performance for Test set\n",
            "- Mean Square: 879278784.7275\n",
            "- Root_Mean_Square: 29652.6354\n",
            "- R2 Score: 0.8854\n",
            "===================================\n",
            "\n",
            "\n",
            "KNNr\n",
            "Model performance for Training set\n",
            "- Mean Square: 1436053817.5420\n",
            "- Root_Mean_Square: 37895.3007\n",
            "- R2 Score: 0.7592\n",
            "----------------------------------\n",
            "Model performance for Test set\n",
            "- Mean Square: 2273401131.5067\n",
            "- Root_Mean_Square: 47680.1964\n",
            "- R2 Score: 0.7036\n",
            "===================================\n",
            "\n",
            "\n",
            "SVR\n",
            "Model performance for Training set\n",
            "- Mean Square: 6232599658.1003\n",
            "- Root_Mean_Square: 78946.8154\n",
            "- R2 Score: -0.0449\n",
            "----------------------------------\n",
            "Model performance for Test set\n",
            "- Mean Square: 7859361525.4243\n",
            "- Root_Mean_Square: 88653.0401\n",
            "- R2 Score: -0.0246\n",
            "===================================\n",
            "\n",
            "\n"
          ]
        }
      ]
    },
    {
      "cell_type": "markdown",
      "source": [
        "###Xgboost Regressor is selected as it has least Root Mean Sqaured error"
      ],
      "metadata": {
        "id": "r5UK5sOUJk_u"
      }
    },
    {
      "cell_type": "code",
      "source": [
        "param_dist = {\n",
        "    \"n_estimators\": np.arange(100, 1000, 100),\n",
        "    \"learning_rate\": [0.01, 0.05, 0.1, 0.2],\n",
        "    \"max_depth\": np.arange(10, 100, 10),\n",
        "    \"min_child_weight\": [1, 3, 5],\n",
        "    \"subsample\": [0.6, 0.8, 1.0],\n",
        "    \"colsample_bytree\": [0.6, 0.8, 1.0],\n",
        "    \"gamma\": [0, 0.1, 0.2, 0.5],\n",
        "    \"reg_alpha\": [0, 0.01, 0.1, 1],\n",
        "    \"reg_lambda\": [0, 0.01, 0.1, 1]\n",
        "}"
      ],
      "metadata": {
        "id": "8W05M_vxJfWP"
      },
      "execution_count": 27,
      "outputs": []
    },
    {
      "cell_type": "code",
      "source": [
        "from sklearn.model_selection import RandomizedSearchCV\n",
        "random_search = RandomizedSearchCV(estimator=xgb.XGBRegressor(), param_distributions=param_dist, n_iter=50, cv=5, scoring='neg_mean_absolute_error', n_jobs=-1, verbose=2, random_state=42)\n",
        "random_search.fit(X_train, y_train)\n",
        "\n",
        "# Best parameters\n",
        "print(\"Best Parameters:\", random_search.best_params_)"
      ],
      "metadata": {
        "colab": {
          "base_uri": "https://localhost:8080/"
        },
        "id": "tHK9RTbPKk1o",
        "outputId": "0be08b1f-01a7-4d91-b0e1-3dca3e643087"
      },
      "execution_count": 28,
      "outputs": [
        {
          "output_type": "stream",
          "name": "stdout",
          "text": [
            "Fitting 5 folds for each of 50 candidates, totalling 250 fits\n",
            "Best Parameters: {'subsample': 0.6, 'reg_lambda': 0.01, 'reg_alpha': 0, 'n_estimators': np.int64(500), 'min_child_weight': 5, 'max_depth': np.int64(20), 'learning_rate': 0.01, 'gamma': 0.5, 'colsample_bytree': 0.8}\n"
          ]
        }
      ]
    },
    {
      "cell_type": "code",
      "source": [
        "df1=pd.read_csv('test.csv')"
      ],
      "metadata": {
        "id": "tVVKPQ_EKw1W"
      },
      "execution_count": 29,
      "outputs": []
    },
    {
      "cell_type": "code",
      "source": [
        "df1.drop(columns=[\"Alley\",\"PoolQC\",\"MiscFeature\"],inplace=True,errors='ignore')"
      ],
      "metadata": {
        "id": "--WrWo14Lfcu"
      },
      "execution_count": 30,
      "outputs": []
    },
    {
      "cell_type": "code",
      "source": [
        "for col in[\"Fence\",\"FireplaceQu\",\"MasVnrType\"]:\n",
        "    df1[col].fillna(\"None\",inplace=True)"
      ],
      "metadata": {
        "colab": {
          "base_uri": "https://localhost:8080/"
        },
        "id": "ftW_t2uuLm-_",
        "outputId": "998f3d5f-44aa-42ad-8db0-401a72d2e8d8"
      },
      "execution_count": 31,
      "outputs": [
        {
          "output_type": "stream",
          "name": "stderr",
          "text": [
            "<ipython-input-31-b1c07859c0bb>:2: FutureWarning: A value is trying to be set on a copy of a DataFrame or Series through chained assignment using an inplace method.\n",
            "The behavior will change in pandas 3.0. This inplace method will never work because the intermediate object on which we are setting values always behaves as a copy.\n",
            "\n",
            "For example, when doing 'df[col].method(value, inplace=True)', try using 'df.method({col: value}, inplace=True)' or df[col] = df[col].method(value) instead, to perform the operation inplace on the original object.\n",
            "\n",
            "\n",
            "  df1[col].fillna(\"None\",inplace=True)\n"
          ]
        }
      ]
    },
    {
      "cell_type": "code",
      "source": [
        "for col in [\"GarageType\", \"GarageFinish\", \"GarageQual\", \"GarageCond\",\n",
        "            \"BsmtQual\", \"BsmtCond\", \"BsmtExposure\", \"BsmtFinType1\", \"BsmtFinType2\", \"Electrical\"]:\n",
        "         df1[col].fillna(df1[col].mode()[0],inplace=True)"
      ],
      "metadata": {
        "colab": {
          "base_uri": "https://localhost:8080/"
        },
        "id": "3DRYsY1DLqZ0",
        "outputId": "d7f6aa54-4e62-4d96-9e42-82921c7c1383"
      },
      "execution_count": 32,
      "outputs": [
        {
          "output_type": "stream",
          "name": "stderr",
          "text": [
            "<ipython-input-32-9af817a9c402>:3: FutureWarning: A value is trying to be set on a copy of a DataFrame or Series through chained assignment using an inplace method.\n",
            "The behavior will change in pandas 3.0. This inplace method will never work because the intermediate object on which we are setting values always behaves as a copy.\n",
            "\n",
            "For example, when doing 'df[col].method(value, inplace=True)', try using 'df.method({col: value}, inplace=True)' or df[col] = df[col].method(value) instead, to perform the operation inplace on the original object.\n",
            "\n",
            "\n",
            "  df1[col].fillna(df1[col].mode()[0],inplace=True)\n"
          ]
        }
      ]
    },
    {
      "cell_type": "code",
      "source": [
        "df1[\"LotFrontage\"].fillna(df[\"LotFrontage\"].median(), inplace=True)\n",
        "df1[\"MasVnrArea\"].fillna(0, inplace=True)\n",
        "df1[\"GarageYrBlt\"].fillna(df[\"YearBuilt\"], inplace=True)"
      ],
      "metadata": {
        "colab": {
          "base_uri": "https://localhost:8080/"
        },
        "id": "eqFnYZcJLtIv",
        "outputId": "b5dffe91-6b2d-4029-97ea-b69888117aa9"
      },
      "execution_count": 33,
      "outputs": [
        {
          "output_type": "stream",
          "name": "stderr",
          "text": [
            "<ipython-input-33-1bf4bfe8ec17>:1: FutureWarning: A value is trying to be set on a copy of a DataFrame or Series through chained assignment using an inplace method.\n",
            "The behavior will change in pandas 3.0. This inplace method will never work because the intermediate object on which we are setting values always behaves as a copy.\n",
            "\n",
            "For example, when doing 'df[col].method(value, inplace=True)', try using 'df.method({col: value}, inplace=True)' or df[col] = df[col].method(value) instead, to perform the operation inplace on the original object.\n",
            "\n",
            "\n",
            "  df1[\"LotFrontage\"].fillna(df[\"LotFrontage\"].median(), inplace=True)\n",
            "<ipython-input-33-1bf4bfe8ec17>:2: FutureWarning: A value is trying to be set on a copy of a DataFrame or Series through chained assignment using an inplace method.\n",
            "The behavior will change in pandas 3.0. This inplace method will never work because the intermediate object on which we are setting values always behaves as a copy.\n",
            "\n",
            "For example, when doing 'df[col].method(value, inplace=True)', try using 'df.method({col: value}, inplace=True)' or df[col] = df[col].method(value) instead, to perform the operation inplace on the original object.\n",
            "\n",
            "\n",
            "  df1[\"MasVnrArea\"].fillna(0, inplace=True)\n",
            "<ipython-input-33-1bf4bfe8ec17>:3: FutureWarning: A value is trying to be set on a copy of a DataFrame or Series through chained assignment using an inplace method.\n",
            "The behavior will change in pandas 3.0. This inplace method will never work because the intermediate object on which we are setting values always behaves as a copy.\n",
            "\n",
            "For example, when doing 'df[col].method(value, inplace=True)', try using 'df.method({col: value}, inplace=True)' or df[col] = df[col].method(value) instead, to perform the operation inplace on the original object.\n",
            "\n",
            "\n",
            "  df1[\"GarageYrBlt\"].fillna(df[\"YearBuilt\"], inplace=True)\n"
          ]
        }
      ]
    },
    {
      "cell_type": "code",
      "source": [
        "df1[\"TotalSF\"] = df1[\"TotalBsmtSF\"] +df1[\"1stFlrSF\"] + df1[\"2ndFlrSF\"]\n",
        "df1[\"TotalBathrooms\"] = df1[\"FullBath\"] + 0.5 * df1[\"HalfBath\"] + df1[\"BsmtFullBath\"] + 0.5 * df1[\"BsmtHalfBath\"]\n",
        "df1[\"Age\"] = df1[\"YrSold\"] - df1[\"YearBuilt\"]"
      ],
      "metadata": {
        "id": "BNXoKXAcLxZB"
      },
      "execution_count": 34,
      "outputs": []
    },
    {
      "cell_type": "code",
      "source": [
        "object_cols = df1.select_dtypes(include=['object']).columns\n",
        "encoder_data = pd.DataFrame(encoder.transform(df1[object_cols]))"
      ],
      "metadata": {
        "id": "X9X82rLlNJ1w"
      },
      "execution_count": 35,
      "outputs": []
    },
    {
      "cell_type": "code",
      "source": [
        "encoder_data.columns = encoder.get_feature_names_out(object_cols)\n",
        "encoder_data.index = df1.index"
      ],
      "metadata": {
        "id": "oFsD5AcrNNU7"
      },
      "execution_count": 36,
      "outputs": []
    },
    {
      "cell_type": "code",
      "source": [
        "df1 = df1.drop(columns=object_cols).reset_index(drop=True)\n",
        "df1 = pd.concat([df1, encoder_data], axis=1)"
      ],
      "metadata": {
        "id": "2V2O13lBNQU5"
      },
      "execution_count": 37,
      "outputs": []
    },
    {
      "source": [
        "# Get missing columns in df1\n",
        "missing_cols = set(X_train.columns) - set(df1.columns)\n",
        "\n",
        "# Add missing columns to df1 with 0 values\n",
        "for col in missing_cols:\n",
        "    df1[col] = 0\n",
        "\n",
        "# Ensure column order is the same as in X_train\n",
        "df1 = df1[X_train.columns]\n",
        "\n",
        "df_scaled = scaler.transform(df1)"
      ],
      "cell_type": "code",
      "metadata": {
        "id": "kc38v9aKXYJq"
      },
      "execution_count": 39,
      "outputs": []
    },
    {
      "cell_type": "code",
      "source": [
        "xgb_model = xgb.XGBRegressor(subsample=0.6, reg_lambda=0.01, reg_alpha=0, n_estimators=500, min_child_weight=5, max_depth=20, learning_rate= 0.01, gamma= 0.5, colsample_bytree=0.8, random_state=42)\n",
        "xgb_model.fit(X_train_scaled, y_train)"
      ],
      "metadata": {
        "colab": {
          "base_uri": "https://localhost:8080/",
          "height": 254
        },
        "id": "ZWftDZQ4XZ5l",
        "outputId": "a6d1094a-4d00-4ac7-8392-e457844fe219"
      },
      "execution_count": 40,
      "outputs": [
        {
          "output_type": "execute_result",
          "data": {
            "text/plain": [
              "XGBRegressor(base_score=None, booster=None, callbacks=None,\n",
              "             colsample_bylevel=None, colsample_bynode=None,\n",
              "             colsample_bytree=0.8, device=None, early_stopping_rounds=None,\n",
              "             enable_categorical=False, eval_metric=None, feature_types=None,\n",
              "             gamma=0.5, grow_policy=None, importance_type=None,\n",
              "             interaction_constraints=None, learning_rate=0.01, max_bin=None,\n",
              "             max_cat_threshold=None, max_cat_to_onehot=None,\n",
              "             max_delta_step=None, max_depth=20, max_leaves=None,\n",
              "             min_child_weight=5, missing=nan, monotone_constraints=None,\n",
              "             multi_strategy=None, n_estimators=500, n_jobs=None,\n",
              "             num_parallel_tree=None, random_state=42, ...)"
            ],
            "text/html": [
              "<style>#sk-container-id-1 {\n",
              "  /* Definition of color scheme common for light and dark mode */\n",
              "  --sklearn-color-text: #000;\n",
              "  --sklearn-color-text-muted: #666;\n",
              "  --sklearn-color-line: gray;\n",
              "  /* Definition of color scheme for unfitted estimators */\n",
              "  --sklearn-color-unfitted-level-0: #fff5e6;\n",
              "  --sklearn-color-unfitted-level-1: #f6e4d2;\n",
              "  --sklearn-color-unfitted-level-2: #ffe0b3;\n",
              "  --sklearn-color-unfitted-level-3: chocolate;\n",
              "  /* Definition of color scheme for fitted estimators */\n",
              "  --sklearn-color-fitted-level-0: #f0f8ff;\n",
              "  --sklearn-color-fitted-level-1: #d4ebff;\n",
              "  --sklearn-color-fitted-level-2: #b3dbfd;\n",
              "  --sklearn-color-fitted-level-3: cornflowerblue;\n",
              "\n",
              "  /* Specific color for light theme */\n",
              "  --sklearn-color-text-on-default-background: var(--sg-text-color, var(--theme-code-foreground, var(--jp-content-font-color1, black)));\n",
              "  --sklearn-color-background: var(--sg-background-color, var(--theme-background, var(--jp-layout-color0, white)));\n",
              "  --sklearn-color-border-box: var(--sg-text-color, var(--theme-code-foreground, var(--jp-content-font-color1, black)));\n",
              "  --sklearn-color-icon: #696969;\n",
              "\n",
              "  @media (prefers-color-scheme: dark) {\n",
              "    /* Redefinition of color scheme for dark theme */\n",
              "    --sklearn-color-text-on-default-background: var(--sg-text-color, var(--theme-code-foreground, var(--jp-content-font-color1, white)));\n",
              "    --sklearn-color-background: var(--sg-background-color, var(--theme-background, var(--jp-layout-color0, #111)));\n",
              "    --sklearn-color-border-box: var(--sg-text-color, var(--theme-code-foreground, var(--jp-content-font-color1, white)));\n",
              "    --sklearn-color-icon: #878787;\n",
              "  }\n",
              "}\n",
              "\n",
              "#sk-container-id-1 {\n",
              "  color: var(--sklearn-color-text);\n",
              "}\n",
              "\n",
              "#sk-container-id-1 pre {\n",
              "  padding: 0;\n",
              "}\n",
              "\n",
              "#sk-container-id-1 input.sk-hidden--visually {\n",
              "  border: 0;\n",
              "  clip: rect(1px 1px 1px 1px);\n",
              "  clip: rect(1px, 1px, 1px, 1px);\n",
              "  height: 1px;\n",
              "  margin: -1px;\n",
              "  overflow: hidden;\n",
              "  padding: 0;\n",
              "  position: absolute;\n",
              "  width: 1px;\n",
              "}\n",
              "\n",
              "#sk-container-id-1 div.sk-dashed-wrapped {\n",
              "  border: 1px dashed var(--sklearn-color-line);\n",
              "  margin: 0 0.4em 0.5em 0.4em;\n",
              "  box-sizing: border-box;\n",
              "  padding-bottom: 0.4em;\n",
              "  background-color: var(--sklearn-color-background);\n",
              "}\n",
              "\n",
              "#sk-container-id-1 div.sk-container {\n",
              "  /* jupyter's `normalize.less` sets `[hidden] { display: none; }`\n",
              "     but bootstrap.min.css set `[hidden] { display: none !important; }`\n",
              "     so we also need the `!important` here to be able to override the\n",
              "     default hidden behavior on the sphinx rendered scikit-learn.org.\n",
              "     See: https://github.com/scikit-learn/scikit-learn/issues/21755 */\n",
              "  display: inline-block !important;\n",
              "  position: relative;\n",
              "}\n",
              "\n",
              "#sk-container-id-1 div.sk-text-repr-fallback {\n",
              "  display: none;\n",
              "}\n",
              "\n",
              "div.sk-parallel-item,\n",
              "div.sk-serial,\n",
              "div.sk-item {\n",
              "  /* draw centered vertical line to link estimators */\n",
              "  background-image: linear-gradient(var(--sklearn-color-text-on-default-background), var(--sklearn-color-text-on-default-background));\n",
              "  background-size: 2px 100%;\n",
              "  background-repeat: no-repeat;\n",
              "  background-position: center center;\n",
              "}\n",
              "\n",
              "/* Parallel-specific style estimator block */\n",
              "\n",
              "#sk-container-id-1 div.sk-parallel-item::after {\n",
              "  content: \"\";\n",
              "  width: 100%;\n",
              "  border-bottom: 2px solid var(--sklearn-color-text-on-default-background);\n",
              "  flex-grow: 1;\n",
              "}\n",
              "\n",
              "#sk-container-id-1 div.sk-parallel {\n",
              "  display: flex;\n",
              "  align-items: stretch;\n",
              "  justify-content: center;\n",
              "  background-color: var(--sklearn-color-background);\n",
              "  position: relative;\n",
              "}\n",
              "\n",
              "#sk-container-id-1 div.sk-parallel-item {\n",
              "  display: flex;\n",
              "  flex-direction: column;\n",
              "}\n",
              "\n",
              "#sk-container-id-1 div.sk-parallel-item:first-child::after {\n",
              "  align-self: flex-end;\n",
              "  width: 50%;\n",
              "}\n",
              "\n",
              "#sk-container-id-1 div.sk-parallel-item:last-child::after {\n",
              "  align-self: flex-start;\n",
              "  width: 50%;\n",
              "}\n",
              "\n",
              "#sk-container-id-1 div.sk-parallel-item:only-child::after {\n",
              "  width: 0;\n",
              "}\n",
              "\n",
              "/* Serial-specific style estimator block */\n",
              "\n",
              "#sk-container-id-1 div.sk-serial {\n",
              "  display: flex;\n",
              "  flex-direction: column;\n",
              "  align-items: center;\n",
              "  background-color: var(--sklearn-color-background);\n",
              "  padding-right: 1em;\n",
              "  padding-left: 1em;\n",
              "}\n",
              "\n",
              "\n",
              "/* Toggleable style: style used for estimator/Pipeline/ColumnTransformer box that is\n",
              "clickable and can be expanded/collapsed.\n",
              "- Pipeline and ColumnTransformer use this feature and define the default style\n",
              "- Estimators will overwrite some part of the style using the `sk-estimator` class\n",
              "*/\n",
              "\n",
              "/* Pipeline and ColumnTransformer style (default) */\n",
              "\n",
              "#sk-container-id-1 div.sk-toggleable {\n",
              "  /* Default theme specific background. It is overwritten whether we have a\n",
              "  specific estimator or a Pipeline/ColumnTransformer */\n",
              "  background-color: var(--sklearn-color-background);\n",
              "}\n",
              "\n",
              "/* Toggleable label */\n",
              "#sk-container-id-1 label.sk-toggleable__label {\n",
              "  cursor: pointer;\n",
              "  display: flex;\n",
              "  width: 100%;\n",
              "  margin-bottom: 0;\n",
              "  padding: 0.5em;\n",
              "  box-sizing: border-box;\n",
              "  text-align: center;\n",
              "  align-items: start;\n",
              "  justify-content: space-between;\n",
              "  gap: 0.5em;\n",
              "}\n",
              "\n",
              "#sk-container-id-1 label.sk-toggleable__label .caption {\n",
              "  font-size: 0.6rem;\n",
              "  font-weight: lighter;\n",
              "  color: var(--sklearn-color-text-muted);\n",
              "}\n",
              "\n",
              "#sk-container-id-1 label.sk-toggleable__label-arrow:before {\n",
              "  /* Arrow on the left of the label */\n",
              "  content: \"▸\";\n",
              "  float: left;\n",
              "  margin-right: 0.25em;\n",
              "  color: var(--sklearn-color-icon);\n",
              "}\n",
              "\n",
              "#sk-container-id-1 label.sk-toggleable__label-arrow:hover:before {\n",
              "  color: var(--sklearn-color-text);\n",
              "}\n",
              "\n",
              "/* Toggleable content - dropdown */\n",
              "\n",
              "#sk-container-id-1 div.sk-toggleable__content {\n",
              "  max-height: 0;\n",
              "  max-width: 0;\n",
              "  overflow: hidden;\n",
              "  text-align: left;\n",
              "  /* unfitted */\n",
              "  background-color: var(--sklearn-color-unfitted-level-0);\n",
              "}\n",
              "\n",
              "#sk-container-id-1 div.sk-toggleable__content.fitted {\n",
              "  /* fitted */\n",
              "  background-color: var(--sklearn-color-fitted-level-0);\n",
              "}\n",
              "\n",
              "#sk-container-id-1 div.sk-toggleable__content pre {\n",
              "  margin: 0.2em;\n",
              "  border-radius: 0.25em;\n",
              "  color: var(--sklearn-color-text);\n",
              "  /* unfitted */\n",
              "  background-color: var(--sklearn-color-unfitted-level-0);\n",
              "}\n",
              "\n",
              "#sk-container-id-1 div.sk-toggleable__content.fitted pre {\n",
              "  /* unfitted */\n",
              "  background-color: var(--sklearn-color-fitted-level-0);\n",
              "}\n",
              "\n",
              "#sk-container-id-1 input.sk-toggleable__control:checked~div.sk-toggleable__content {\n",
              "  /* Expand drop-down */\n",
              "  max-height: 200px;\n",
              "  max-width: 100%;\n",
              "  overflow: auto;\n",
              "}\n",
              "\n",
              "#sk-container-id-1 input.sk-toggleable__control:checked~label.sk-toggleable__label-arrow:before {\n",
              "  content: \"▾\";\n",
              "}\n",
              "\n",
              "/* Pipeline/ColumnTransformer-specific style */\n",
              "\n",
              "#sk-container-id-1 div.sk-label input.sk-toggleable__control:checked~label.sk-toggleable__label {\n",
              "  color: var(--sklearn-color-text);\n",
              "  background-color: var(--sklearn-color-unfitted-level-2);\n",
              "}\n",
              "\n",
              "#sk-container-id-1 div.sk-label.fitted input.sk-toggleable__control:checked~label.sk-toggleable__label {\n",
              "  background-color: var(--sklearn-color-fitted-level-2);\n",
              "}\n",
              "\n",
              "/* Estimator-specific style */\n",
              "\n",
              "/* Colorize estimator box */\n",
              "#sk-container-id-1 div.sk-estimator input.sk-toggleable__control:checked~label.sk-toggleable__label {\n",
              "  /* unfitted */\n",
              "  background-color: var(--sklearn-color-unfitted-level-2);\n",
              "}\n",
              "\n",
              "#sk-container-id-1 div.sk-estimator.fitted input.sk-toggleable__control:checked~label.sk-toggleable__label {\n",
              "  /* fitted */\n",
              "  background-color: var(--sklearn-color-fitted-level-2);\n",
              "}\n",
              "\n",
              "#sk-container-id-1 div.sk-label label.sk-toggleable__label,\n",
              "#sk-container-id-1 div.sk-label label {\n",
              "  /* The background is the default theme color */\n",
              "  color: var(--sklearn-color-text-on-default-background);\n",
              "}\n",
              "\n",
              "/* On hover, darken the color of the background */\n",
              "#sk-container-id-1 div.sk-label:hover label.sk-toggleable__label {\n",
              "  color: var(--sklearn-color-text);\n",
              "  background-color: var(--sklearn-color-unfitted-level-2);\n",
              "}\n",
              "\n",
              "/* Label box, darken color on hover, fitted */\n",
              "#sk-container-id-1 div.sk-label.fitted:hover label.sk-toggleable__label.fitted {\n",
              "  color: var(--sklearn-color-text);\n",
              "  background-color: var(--sklearn-color-fitted-level-2);\n",
              "}\n",
              "\n",
              "/* Estimator label */\n",
              "\n",
              "#sk-container-id-1 div.sk-label label {\n",
              "  font-family: monospace;\n",
              "  font-weight: bold;\n",
              "  display: inline-block;\n",
              "  line-height: 1.2em;\n",
              "}\n",
              "\n",
              "#sk-container-id-1 div.sk-label-container {\n",
              "  text-align: center;\n",
              "}\n",
              "\n",
              "/* Estimator-specific */\n",
              "#sk-container-id-1 div.sk-estimator {\n",
              "  font-family: monospace;\n",
              "  border: 1px dotted var(--sklearn-color-border-box);\n",
              "  border-radius: 0.25em;\n",
              "  box-sizing: border-box;\n",
              "  margin-bottom: 0.5em;\n",
              "  /* unfitted */\n",
              "  background-color: var(--sklearn-color-unfitted-level-0);\n",
              "}\n",
              "\n",
              "#sk-container-id-1 div.sk-estimator.fitted {\n",
              "  /* fitted */\n",
              "  background-color: var(--sklearn-color-fitted-level-0);\n",
              "}\n",
              "\n",
              "/* on hover */\n",
              "#sk-container-id-1 div.sk-estimator:hover {\n",
              "  /* unfitted */\n",
              "  background-color: var(--sklearn-color-unfitted-level-2);\n",
              "}\n",
              "\n",
              "#sk-container-id-1 div.sk-estimator.fitted:hover {\n",
              "  /* fitted */\n",
              "  background-color: var(--sklearn-color-fitted-level-2);\n",
              "}\n",
              "\n",
              "/* Specification for estimator info (e.g. \"i\" and \"?\") */\n",
              "\n",
              "/* Common style for \"i\" and \"?\" */\n",
              "\n",
              ".sk-estimator-doc-link,\n",
              "a:link.sk-estimator-doc-link,\n",
              "a:visited.sk-estimator-doc-link {\n",
              "  float: right;\n",
              "  font-size: smaller;\n",
              "  line-height: 1em;\n",
              "  font-family: monospace;\n",
              "  background-color: var(--sklearn-color-background);\n",
              "  border-radius: 1em;\n",
              "  height: 1em;\n",
              "  width: 1em;\n",
              "  text-decoration: none !important;\n",
              "  margin-left: 0.5em;\n",
              "  text-align: center;\n",
              "  /* unfitted */\n",
              "  border: var(--sklearn-color-unfitted-level-1) 1pt solid;\n",
              "  color: var(--sklearn-color-unfitted-level-1);\n",
              "}\n",
              "\n",
              ".sk-estimator-doc-link.fitted,\n",
              "a:link.sk-estimator-doc-link.fitted,\n",
              "a:visited.sk-estimator-doc-link.fitted {\n",
              "  /* fitted */\n",
              "  border: var(--sklearn-color-fitted-level-1) 1pt solid;\n",
              "  color: var(--sklearn-color-fitted-level-1);\n",
              "}\n",
              "\n",
              "/* On hover */\n",
              "div.sk-estimator:hover .sk-estimator-doc-link:hover,\n",
              ".sk-estimator-doc-link:hover,\n",
              "div.sk-label-container:hover .sk-estimator-doc-link:hover,\n",
              ".sk-estimator-doc-link:hover {\n",
              "  /* unfitted */\n",
              "  background-color: var(--sklearn-color-unfitted-level-3);\n",
              "  color: var(--sklearn-color-background);\n",
              "  text-decoration: none;\n",
              "}\n",
              "\n",
              "div.sk-estimator.fitted:hover .sk-estimator-doc-link.fitted:hover,\n",
              ".sk-estimator-doc-link.fitted:hover,\n",
              "div.sk-label-container:hover .sk-estimator-doc-link.fitted:hover,\n",
              ".sk-estimator-doc-link.fitted:hover {\n",
              "  /* fitted */\n",
              "  background-color: var(--sklearn-color-fitted-level-3);\n",
              "  color: var(--sklearn-color-background);\n",
              "  text-decoration: none;\n",
              "}\n",
              "\n",
              "/* Span, style for the box shown on hovering the info icon */\n",
              ".sk-estimator-doc-link span {\n",
              "  display: none;\n",
              "  z-index: 9999;\n",
              "  position: relative;\n",
              "  font-weight: normal;\n",
              "  right: .2ex;\n",
              "  padding: .5ex;\n",
              "  margin: .5ex;\n",
              "  width: min-content;\n",
              "  min-width: 20ex;\n",
              "  max-width: 50ex;\n",
              "  color: var(--sklearn-color-text);\n",
              "  box-shadow: 2pt 2pt 4pt #999;\n",
              "  /* unfitted */\n",
              "  background: var(--sklearn-color-unfitted-level-0);\n",
              "  border: .5pt solid var(--sklearn-color-unfitted-level-3);\n",
              "}\n",
              "\n",
              ".sk-estimator-doc-link.fitted span {\n",
              "  /* fitted */\n",
              "  background: var(--sklearn-color-fitted-level-0);\n",
              "  border: var(--sklearn-color-fitted-level-3);\n",
              "}\n",
              "\n",
              ".sk-estimator-doc-link:hover span {\n",
              "  display: block;\n",
              "}\n",
              "\n",
              "/* \"?\"-specific style due to the `<a>` HTML tag */\n",
              "\n",
              "#sk-container-id-1 a.estimator_doc_link {\n",
              "  float: right;\n",
              "  font-size: 1rem;\n",
              "  line-height: 1em;\n",
              "  font-family: monospace;\n",
              "  background-color: var(--sklearn-color-background);\n",
              "  border-radius: 1rem;\n",
              "  height: 1rem;\n",
              "  width: 1rem;\n",
              "  text-decoration: none;\n",
              "  /* unfitted */\n",
              "  color: var(--sklearn-color-unfitted-level-1);\n",
              "  border: var(--sklearn-color-unfitted-level-1) 1pt solid;\n",
              "}\n",
              "\n",
              "#sk-container-id-1 a.estimator_doc_link.fitted {\n",
              "  /* fitted */\n",
              "  border: var(--sklearn-color-fitted-level-1) 1pt solid;\n",
              "  color: var(--sklearn-color-fitted-level-1);\n",
              "}\n",
              "\n",
              "/* On hover */\n",
              "#sk-container-id-1 a.estimator_doc_link:hover {\n",
              "  /* unfitted */\n",
              "  background-color: var(--sklearn-color-unfitted-level-3);\n",
              "  color: var(--sklearn-color-background);\n",
              "  text-decoration: none;\n",
              "}\n",
              "\n",
              "#sk-container-id-1 a.estimator_doc_link.fitted:hover {\n",
              "  /* fitted */\n",
              "  background-color: var(--sklearn-color-fitted-level-3);\n",
              "}\n",
              "</style><div id=\"sk-container-id-1\" class=\"sk-top-container\"><div class=\"sk-text-repr-fallback\"><pre>XGBRegressor(base_score=None, booster=None, callbacks=None,\n",
              "             colsample_bylevel=None, colsample_bynode=None,\n",
              "             colsample_bytree=0.8, device=None, early_stopping_rounds=None,\n",
              "             enable_categorical=False, eval_metric=None, feature_types=None,\n",
              "             gamma=0.5, grow_policy=None, importance_type=None,\n",
              "             interaction_constraints=None, learning_rate=0.01, max_bin=None,\n",
              "             max_cat_threshold=None, max_cat_to_onehot=None,\n",
              "             max_delta_step=None, max_depth=20, max_leaves=None,\n",
              "             min_child_weight=5, missing=nan, monotone_constraints=None,\n",
              "             multi_strategy=None, n_estimators=500, n_jobs=None,\n",
              "             num_parallel_tree=None, random_state=42, ...)</pre><b>In a Jupyter environment, please rerun this cell to show the HTML representation or trust the notebook. <br />On GitHub, the HTML representation is unable to render, please try loading this page with nbviewer.org.</b></div><div class=\"sk-container\" hidden><div class=\"sk-item\"><div class=\"sk-estimator fitted sk-toggleable\"><input class=\"sk-toggleable__control sk-hidden--visually\" id=\"sk-estimator-id-1\" type=\"checkbox\" checked><label for=\"sk-estimator-id-1\" class=\"sk-toggleable__label fitted sk-toggleable__label-arrow\"><div><div>XGBRegressor</div></div><div><span class=\"sk-estimator-doc-link fitted\">i<span>Fitted</span></span></div></label><div class=\"sk-toggleable__content fitted\"><pre>XGBRegressor(base_score=None, booster=None, callbacks=None,\n",
              "             colsample_bylevel=None, colsample_bynode=None,\n",
              "             colsample_bytree=0.8, device=None, early_stopping_rounds=None,\n",
              "             enable_categorical=False, eval_metric=None, feature_types=None,\n",
              "             gamma=0.5, grow_policy=None, importance_type=None,\n",
              "             interaction_constraints=None, learning_rate=0.01, max_bin=None,\n",
              "             max_cat_threshold=None, max_cat_to_onehot=None,\n",
              "             max_delta_step=None, max_depth=20, max_leaves=None,\n",
              "             min_child_weight=5, missing=nan, monotone_constraints=None,\n",
              "             multi_strategy=None, n_estimators=500, n_jobs=None,\n",
              "             num_parallel_tree=None, random_state=42, ...)</pre></div> </div></div></div></div>"
            ]
          },
          "metadata": {},
          "execution_count": 40
        }
      ]
    },
    {
      "cell_type": "code",
      "source": [
        "df2=pd.read_csv('test.csv')"
      ],
      "metadata": {
        "id": "CA46sq6_Y2wa"
      },
      "execution_count": 43,
      "outputs": []
    },
    {
      "cell_type": "code",
      "source": [
        "xg_pred=xgb_model.predict(df_scaled)\n",
        "output=pd.DataFrame({'Id':df2['Id'].astype(int),'SalePrice':xg_pred})\n",
        "output.to_csv(f'newsubmission.csv',index=False)\n"
      ],
      "metadata": {
        "id": "rtlROKTuXmdz"
      },
      "execution_count": 44,
      "outputs": []
    }
  ]
}